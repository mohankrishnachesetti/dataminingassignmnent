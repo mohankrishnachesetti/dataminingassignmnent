{
 "cells": [
  {
   "cell_type": "code",
   "execution_count": 1,
   "id": "3426d335-c00c-414c-873c-33010024cfd2",
   "metadata": {},
   "outputs": [],
   "source": [
    "import os\n",
    "from skimage import io,color,exposure,filters\n",
    "import numpy as np\n",
    "import pandas as pd\n",
    "from sklearn.decomposition import PCA \n",
    "import warnings \n",
    "warnings.filterwarnings(\"ignore\")\n",
    "def angle(dx, dy):\n",
    " return np.mod(np.arctan2(dy, dx), np.pi)\n",
    "direct = \"C:\\\\Users\\\\mohan\\\\Desktop\\\\Cropped\"\n",
    "breeds=os.listdir(direct)\n",
    "images = []\n",
    "dog_breed = []\n",
    "for index, breed in enumerate(breeds):\n",
    "    img_path = os.path.join(direct, breed)\n",
    "    for image in os.listdir(img_path):\n",
    "        src_path = os.path.join(img_path, image)\n",
    "        img = io.imread(src_path)\n",
    "        img = color.rgb2gray(img)\n",
    "        img = angle(filters.sobel_h(img), filters.sobel_v(img))\n",
    "        hist, _ = exposure.histogram(img, nbins=36)\n",
    "        hist = hist / np.sum(hist)  # normalization added\n",
    "        images.append(hist)\n",
    "        dog_breed.append(index)\n",
    "images = np.array(images)\n",
    "dog_breed = np.array(dog_breed)\n",
    "dr=PCA(2)\n",
    "images=dr.fit_transform(images)"
   ]
  },
  {
   "cell_type": "code",
   "execution_count": 2,
   "id": "a70fdd2d-d390-4a3d-a285-2ea9e16c7a70",
   "metadata": {},
   "outputs": [],
   "source": [
    "from sklearn.cluster import KMeans, BisectingKMeans, SpectralClustering\n",
    "kmeans_variants = {\n",
    "    'Random': {'init': 'random'},\n",
    "    'KMeans++': {'init': 'k-means++'},\n",
    "    'BisectingKMeans': {'init': 'random'},\n",
    "    'SpectralClustering': {} \n",
    "}\n",
    "labels_dict = {}\n",
    "for variant, params in kmeans_variants.items():\n",
    "    if variant == 'SpectralClustering':\n",
    "        clustering = SpectralClustering(n_clusters=4, random_state=42)\n",
    "    elif variant == 'BisectingKMeans':\n",
    "        clustering = BisectingKMeans(n_clusters=4, random_state=42)\n",
    "    else:\n",
    "        clustering = KMeans(n_clusters=4, random_state=42, **params)\n",
    "    labels = clustering.fit_predict(images)\n",
    "    labels_dict[variant] = labels\n",
    "Random = labels_dict['Random']\n",
    "kmeans = labels_dict['KMeans++']\n",
    "bisecting = labels_dict['BisectingKMeans']\n",
    "spectralclustering = labels_dict['SpectralClustering']"
   ]
  },
  {
   "cell_type": "code",
   "execution_count": 3,
   "id": "a6f18ee1-b389-4be2-aee1-966b33e0eb8e",
   "metadata": {},
   "outputs": [
    {
     "name": "stdout",
     "output_type": "stream",
     "text": [
      "For DBSCAN clustering with 4 clusters:\n",
      "    eps = 0.02\n",
      "    min_samples = 3\n",
      "were used.\n"
     ]
    }
   ],
   "source": [
    "from sklearn.cluster import DBSCAN\n",
    "dbscan = DBSCAN(eps=0.02, min_samples=3).fit(images).labels_\n",
    "print(\"For DBSCAN clustering with 4 clusters:\")\n",
    "print(\"    eps = 0.02\")\n",
    "print(\"    min_samples = 3\")\n",
    "print(\"were used.\")"
   ]
  },
  {
   "cell_type": "code",
   "execution_count": 4,
   "id": "e5b1a297-93bd-4797-9588-7192c805d386",
   "metadata": {},
   "outputs": [],
   "source": [
    "from sklearn.cluster import AgglomerativeClustering\n",
    "linkage_methods = ['single', 'complete', 'average', 'ward']\n",
    "results = {}\n",
    "for method in linkage_methods:\n",
    "    clustering = AgglomerativeClustering(n_clusters=4, linkage=method)\n",
    "    labels = clustering.fit_predict(images)\n",
    "    results[method] = labels\n",
    "Agglomerative_single = results['single']\n",
    "Agglomerative_complete = results['complete']\n",
    "Agglomerative_average = results['average']\n",
    "Agglomerative_ward = results['ward']"
   ]
  },
  {
   "cell_type": "code",
   "execution_count": 5,
   "id": "7490494f-753f-41d9-a13d-537206f5c658",
   "metadata": {},
   "outputs": [
    {
     "name": "stdout",
     "output_type": "stream",
     "text": [
      "Random: 0.2975270506119972\n",
      "kmeans: 0.29909666651045397\n",
      "bisecting: 0.2972809339865332\n",
      "spectralclustering: 0.31521169137383054\n",
      "dbscan: 0.4874562084130845\n",
      "Agglomerative_single: 0.4943827347937293\n",
      "Agglomerative_complete: 0.36713456124640975\n",
      "Agglomerative_average: 0.48907882180388346\n",
      "Agglomerative_ward: 0.32235438804477073\n"
     ]
    }
   ],
   "source": [
    "from sklearn.metrics import fowlkes_mallows_score\n",
    "clustering_methods = {\n",
    "    'Random': Random,\n",
    "    'kmeans': kmeans,\n",
    "    'bisecting': bisecting,\n",
    "    'spectralclustering': spectralclustering,\n",
    "    'dbscan': dbscan,\n",
    "    'Agglomerative_single': Agglomerative_single,\n",
    "    'Agglomerative_complete': Agglomerative_complete,\n",
    "    'Agglomerative_average': Agglomerative_average,\n",
    "    'Agglomerative_ward': Agglomerative_ward\n",
    "}\n",
    "for method_name, labels in clustering_methods.items():\n",
    "    score = fowlkes_mallows_score(dog_breed, labels)\n",
    "    print(f'{method_name}: {score}')"
   ]
  },
  {
   "cell_type": "code",
   "execution_count": 6,
   "id": "6b5656a7-1bb6-452c-b321-6cb10300b980",
   "metadata": {},
   "outputs": [
    {
     "name": "stdout",
     "output_type": "stream",
     "text": [
      "Random: 0.40305783333055095\n",
      "kmeans: 0.4055704996457822\n",
      "bisecting: 0.37036373178557724\n",
      "spectralclustering: 0.24084357806466253\n",
      "dbscan: 0.7308506454338473\n",
      "Agglomerative_single: 0.809639336741712\n",
      "Agglomerative_complete: 0.4137738008851826\n",
      "Agglomerative_average: 0.5539758547312447\n",
      "Agglomerative_ward: 0.3934205143234151\n"
     ]
    }
   ],
   "source": [
    "from sklearn.metrics import silhouette_score\n",
    "clustering_methods = {\n",
    "    'Random': Random,\n",
    "    'kmeans': kmeans,\n",
    "    'bisecting': bisecting,\n",
    "    'spectralclustering': spectralclustering,\n",
    "    'dbscan': dbscan,\n",
    "    'Agglomerative_single': Agglomerative_single,\n",
    "    'Agglomerative_complete': Agglomerative_complete,\n",
    "    'Agglomerative_average': Agglomerative_average,\n",
    "    'Agglomerative_ward': Agglomerative_ward\n",
    "}\n",
    "for method_name, labels in clustering_methods.items():\n",
    "    score = silhouette_score(images, labels)\n",
    "    print(f'{method_name}: {score}')"
   ]
  },
  {
   "cell_type": "code",
   "execution_count": null,
   "id": "9f25e9a4-c895-4d05-85e2-1907abce03c3",
   "metadata": {},
   "outputs": [],
   "source": [
    "'''Rank the methods from the best to the worst for our dataset based on Fowlkes-Mallows index\n",
    "Agglomerative_single,Agglomerative_average,Agglomerative_complete,Agglomerative_ward'''\n",
    "\n",
    "'''Rank the methods from the best to the worst for our dataset based on Silhouette Coefficient.\n",
    "Agglomerative_single,Agglomerative_average,Agglomerative_complete,Agglomerative_ward'''"
   ]
  }
 ],
 "metadata": {
  "kernelspec": {
   "display_name": "Python 3 (ipykernel)",
   "language": "python",
   "name": "python3"
  },
  "language_info": {
   "codemirror_mode": {
    "name": "ipython",
    "version": 3
   },
   "file_extension": ".py",
   "mimetype": "text/x-python",
   "name": "python",
   "nbconvert_exporter": "python",
   "pygments_lexer": "ipython3",
   "version": "3.11.5"
  }
 },
 "nbformat": 4,
 "nbformat_minor": 5
}
